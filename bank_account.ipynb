{
 "cells": [
  {
   "cell_type": "code",
   "execution_count": 1,
   "id": "4dd0f97b",
   "metadata": {},
   "outputs": [],
   "source": [
    "class Account:\n",
    "    def __init__(self, account_number, account_balance, account_holder, account_deposit):\n",
    "        self.account_number = account_number\n",
    "        self.account_balance = account_balance\n",
    "        self.account_holder = account_holder\n",
    "        self.account_deposit = account_deposit\n",
    "    \n",
    "    def deposit(self, amount):\n",
    "        self.account_balance += amount\n",
    "        \n",
    "    \n",
    "    def withdraw(self, amount):\n",
    "        if self.account_balance >= amount:\n",
    "            self.account_balance -= amount\n",
    "        else:\n",
    "            print(\"Insufficient balance.\")\n",
    "    \n",
    "    def check_balance(self):\n",
    "        return self.account_balance"
   ]
  },
  {
   "cell_type": "code",
   "execution_count": 2,
   "id": "2a3f9260",
   "metadata": {},
   "outputs": [
    {
     "name": "stdout",
     "output_type": "stream",
     "text": [
      "Current balance: 23500.0\n"
     ]
    }
   ],
   "source": [
    "account_1 = Account(\"007878787\", 23000.0, \"Ada\", 400)\n",
    "\n",
    "account_1.deposit(500.0)\n",
    "print(\"Current balance:\", account_1.check_balance())"
   ]
  },
  {
   "cell_type": "code",
   "execution_count": 3,
   "id": "e07c2e75",
   "metadata": {},
   "outputs": [
    {
     "name": "stdout",
     "output_type": "stream",
     "text": [
      "Current balance: 23300.0\n"
     ]
    }
   ],
   "source": [
    "account_1.withdraw(200.0)\n",
    "print(\"Current balance:\", account_1.check_balance())"
   ]
  },
  {
   "cell_type": "code",
   "execution_count": null,
   "id": "b1e252a6",
   "metadata": {},
   "outputs": [],
   "source": []
  }
 ],
 "metadata": {
  "kernelspec": {
   "display_name": "Python 3 (ipykernel)",
   "language": "python",
   "name": "python3"
  },
  "language_info": {
   "codemirror_mode": {
    "name": "ipython",
    "version": 3
   },
   "file_extension": ".py",
   "mimetype": "text/x-python",
   "name": "python",
   "nbconvert_exporter": "python",
   "pygments_lexer": "ipython3",
   "version": "3.9.12"
  }
 },
 "nbformat": 4,
 "nbformat_minor": 5
}
